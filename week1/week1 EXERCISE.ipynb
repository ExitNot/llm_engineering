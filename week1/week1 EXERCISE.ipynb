{
 "cells": [
  {
   "cell_type": "markdown",
   "id": "fe12c203-e6a6-452c-a655-afb8a03a4ff5",
   "metadata": {},
   "source": [
    "# End of week 1 exercise\n",
    "\n",
    "To demonstrate your familiarity with OpenAI API, and also Ollama, build a tool that takes a technical question,  \n",
    "and responds with an explanation. This is a tool that you will be able to use yourself during the course!"
   ]
  },
  {
   "cell_type": "code",
   "execution_count": 17,
   "id": "c1070317-3ed9-4659-abe3-828943230e03",
   "metadata": {},
   "outputs": [],
   "source": [
    "import os\n",
    "from IPython.display import Markdown, display, update_display\n",
    "from openai import OpenAI"
   ]
  },
  {
   "cell_type": "code",
   "execution_count": 8,
   "id": "4a456906-915a-4bfd-bb9d-57e505c5093f",
   "metadata": {},
   "outputs": [],
   "source": [
    "# constants\n",
    "\n",
    "MODEL_LLAMA = 'llama3.2:1b'\n",
    "OLLAMA_API = \"http://localhost:11434/v1\"\n",
    "HEADERS = {\"Content-Type\": \"application/json\"}"
   ]
  },
  {
   "cell_type": "code",
   "execution_count": 9,
   "id": "a8d7923c-5f28-4c30-8556-342d7c8497c1",
   "metadata": {},
   "outputs": [],
   "source": [
    "# initialise ollama interface\n",
    "ollama = OpenAI(base_url=OLLAMA_API, api_key='ollama')"
   ]
  },
  {
   "cell_type": "code",
   "execution_count": 14,
   "id": "3f0d0137-52b0-47a8-81a8-11a90a010798",
   "metadata": {},
   "outputs": [],
   "source": [
    "class TechnicalSpecialist:\n",
    "    def __init__(self):\n",
    "        self.system_prompt = \"You are a technocal specialist in wide spectrum. \\\n",
    "            Your task is to answer to technical questions with deep explenation. \\\n",
    "            When you expleining try to be as simple as possible like you are describing it for child. \\\n",
    "            Respond in Markdown.\"\n",
    "    \n",
    "    def answer(self, question, with_stram = True):\n",
    "        response = ollama.chat.completions.create(\n",
    "            model = MODEL_LLAMA,\n",
    "            messages=[\n",
    "                {'role': 'system', 'content': self.system_prompt},\n",
    "                {'role': 'user', 'content': question}\n",
    "            ],\n",
    "            stream=with_stram\n",
    "        )\n",
    "        return self.stream_result(response) if with_stram else display(Markdown(response.choices[0].message.content))\n",
    "    \n",
    "    def stream_result(self, stream):\n",
    "        response = \"\"\n",
    "        display_handle = display(Markdown(\"\"), display_id=True)\n",
    "        for chunk in stream:\n",
    "            response += chunk.choices[0].delta.content or ''\n",
    "            response = response.replace(\"```\",\"\").replace(\"markdown\", \"\")\n",
    "            update_display(Markdown(response), display_id=display_handle.display_id)\n",
    "\n",
    "        \n",
    "\n",
    "\n"
   ]
  },
  {
   "cell_type": "code",
   "execution_count": 15,
   "id": "73171f45",
   "metadata": {},
   "outputs": [],
   "source": [
    "techGuru = TechnicalSpecialist()\n",
    "\n",
    "question = \"\"\"\n",
    "Please explain what this code does and why:\n",
    "yield from {book.get(\"author\") for book in books if book.get(\"author\")}\n",
    "\"\"\""
   ]
  },
  {
   "cell_type": "code",
   "execution_count": 18,
   "id": "133de990",
   "metadata": {},
   "outputs": [
    {
     "data": {
      "text/markdown": [
       "**Code Explanation: ` yield from` with `dict.get()`**\n",
       "\n",
       "This is a Python code snippet that uses the `yield from` expression in combination with the dictionary lookup operator (`get`) to achieve something similar to a generator expression.\n",
       "\n",
       "Let's break it down:\n",
       "\n",
       "1. `{book.get(\"author\") for book in books if book.get(\"author\")}`:\n",
       "\t* This is a complex list comprehension that creates a new iterator by looping over each item `book` in the `books` dictionary.\n",
       "\t* It checks whether both `book[\"author\"]` exists and has a value, then skips to the next iteration using the conditional statement `if book.get(\"author\")`.\n",
       "2. `yield from ...`: This is where things get interesting!\n",
       "\n",
       " Inside the list comprehension, this line uses another `for` loop (`dict.get()`), but it doesn't do the loop itself.\n",
       "\n",
       "Here's what happens:\n",
       "\n",
       "- It loops over each key-value pair in the dictionary.\n",
       "- For each iteration, it checks using `dict.get()`, if both values are available (as keys or dictionaries). If they are not, you get an error.\n",
       "- If `dict.get()` returns a value (not None), that value becomes a new item in the iterator.\n",
       "\n",
       "When all iterations of this loop complete and no errors occurred, each successful execution is used to generate its corresponding element on the outer generator by assigning it's next result from the previous generator:\n",
       "\n",
       "Here are some simplified examples of what `yield from` can produce:\n",
       "\n",
       "python\n",
       "# A simple example using a list comprehension\n",
       "books = [\n",
       "    {\"author\": \"Author 1\", \"title\": \"Book\"},\n",
       "    {\"title\": \"Book2\"},\n",
       "    # ... (skipped this one)\n",
       "]\n",
       "result_list =[i[\"author\"] for i in books if hasattr(i, 'author')]\n",
       "print(type(result_list)) # It will print a list\n",
       "\n",
       "# Using yield from: more explicit example\n",
       "d = {\n",
       "    1 : True,\n",
       "    2 : False,\n",
       "}\n",
       "results = []\n",
       "for key, value in d.items():\n",
       "    results.extend([value] * (key*3))\n",
       "yfrom = iter(results)\n",
       "print(next(yfrom)) # It will print \"True\"\n",
       "next(yfrom) # Now it prints \"False\" three times\n",
       "\n",
       "\n",
       "**Why use `yield from`?**\n",
       "\n",
       "The main benefits of using `yield from` are:\n",
       "\n",
       "- Improves Code Readability: The list comprehension syntax can make the code easier to read, especially when working with lists or other types of iterables.\n",
       "- Promotes Generators: It encourages breaking down complex operations into smaller steps that produce a sequence of results. This makes your code more flexible and efficient.\n",
       "\n",
       "**Important Security Note:** When using `dict.get()` multiple times within a small scope (e.g., as in the example), it can lead to potential dictionary exhaustion issues if you're dealing with large data sets.\n",
       "\n",
       "This usage of `yield from` typically occurs when working with complex, nested iterables that might grow impractically long. It represents an efficient way to build up a sequence one item at a time without loading the entire dataset into memory at once."
      ],
      "text/plain": [
       "<IPython.core.display.Markdown object>"
      ]
     },
     "metadata": {},
     "output_type": "display_data"
    }
   ],
   "source": [
    "techGuru.answer(question)"
   ]
  }
 ],
 "metadata": {
  "kernelspec": {
   "display_name": "llms",
   "language": "python",
   "name": "python3"
  },
  "language_info": {
   "codemirror_mode": {
    "name": "ipython",
    "version": 3
   },
   "file_extension": ".py",
   "mimetype": "text/x-python",
   "name": "python",
   "nbconvert_exporter": "python",
   "pygments_lexer": "ipython3",
   "version": "3.11.13"
  }
 },
 "nbformat": 4,
 "nbformat_minor": 5
}
